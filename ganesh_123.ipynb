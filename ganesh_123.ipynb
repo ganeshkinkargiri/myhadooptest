{
 "cells": [
  {
   "cell_type": "code",
   "execution_count": 79,
   "metadata": {
    "extensions": {
     "jupyter_dashboards": {
      "version": 1,
      "views": {
       "grid_default": {
        "col": null,
        "height": 13,
        "hidden": false,
        "row": 0,
        "width": null
       },
       "report_default": {
        "hidden": false
       }
      }
     }
    }
   },
   "outputs": [
    {
     "data": {
      "text/html": [
       "\n",
       "\n",
       "<style>\n",
       "\n",
       "</style>\n",
       "\n",
       "<div id=\"fig_el158211397942136371447957541326\"></div>\n",
       "<script>\n",
       "function mpld3_load_lib(url, callback){\n",
       "  var s = document.createElement('script');\n",
       "  s.src = url;\n",
       "  s.async = true;\n",
       "  s.onreadystatechange = s.onload = callback;\n",
       "  s.onerror = function(){console.warn(\"failed to load library \" + url);};\n",
       "  document.getElementsByTagName(\"head\")[0].appendChild(s);\n",
       "}\n",
       "\n",
       "if(typeof(mpld3) !== \"undefined\" && mpld3._mpld3IsLoaded){\n",
       "   // already loaded: just create the figure\n",
       "   !function(mpld3){\n",
       "       \n",
       "       mpld3.draw_figure(\"fig_el158211397942136371447957541326\", {\"id\": \"el15821139794213637144\", \"data\": {\"data02\": [[1.0, 0.0], [1.2, 0.0], [1.2, 9.0], [1.0, 9.0]], \"data05\": [[5.0, 0.0], [5.2, 0.0], [5.2, 20.0], [5.0, 20.0]], \"data03\": [[2.0, 0.0, 4.0], [2.2, 0.0, 4.2], [2.2, 4.0, 4.2], [2.0, 4.0, 4.0]], \"data04\": [[3.0, 0.0], [3.2, 0.0], [3.2, 5.0], [3.0, 5.0]], \"data01\": [[0.0, 0.0], [0.2, 0.0], [0.2, 8.0], [0.0, 8.0]]}, \"axes\": [{\"lines\": [], \"axes\": [{\"nticks\": 6, \"fontsize\": 10.0, \"tickformat\": [\"SVKGT\", \"SWEIQ\", \"GUYUM\", \"ITAWI\", \"YUGMT\", \"DDDDD\"], \"tickvalues\": [0.1, 1.1, 2.1, 3.1, 4.1, 5.1], \"position\": \"bottom\", \"visible\": true, \"scale\": \"linear\", \"grid\": {\"color\": \"#FFFFFF\", \"alpha\": 1.0, \"gridOn\": true, \"dasharray\": \"none\"}}, {\"nticks\": 5, \"fontsize\": 10.0, \"tickformat\": null, \"tickvalues\": null, \"position\": \"left\", \"visible\": true, \"scale\": \"linear\", \"grid\": {\"color\": \"#FFFFFF\", \"alpha\": 1.0, \"gridOn\": true, \"dasharray\": \"none\"}}], \"yscale\": \"linear\", \"ydomain\": [0.0, 20.0], \"axesbg\": \"#E5E5E5\", \"paths\": [{\"zorder\": 1, \"coordinates\": \"data\", \"facecolor\": \"#008000\", \"pathcodes\": [\"M\", \"L\", \"L\", \"L\", \"Z\"], \"dasharray\": \"none\", \"edgecolor\": \"#EEEEEE\", \"edgewidth\": 0.5, \"id\": \"el15821139794215400896\", \"data\": \"data01\", \"yindex\": 1, \"xindex\": 0, \"alpha\": 0.1}, {\"zorder\": 1, \"coordinates\": \"data\", \"facecolor\": \"#008000\", \"pathcodes\": [\"M\", \"L\", \"L\", \"L\", \"Z\"], \"dasharray\": \"none\", \"edgecolor\": \"#EEEEEE\", \"edgewidth\": 0.5, \"id\": \"el15821139794224715424\", \"data\": \"data02\", \"yindex\": 1, \"xindex\": 0, \"alpha\": 0.1}, {\"zorder\": 1, \"coordinates\": \"data\", \"facecolor\": \"#008000\", \"pathcodes\": [\"M\", \"L\", \"L\", \"L\", \"Z\"], \"dasharray\": \"none\", \"edgecolor\": \"#EEEEEE\", \"edgewidth\": 0.5, \"id\": \"el15821139794223911656\", \"data\": \"data03\", \"yindex\": 1, \"xindex\": 0, \"alpha\": 0.1}, {\"zorder\": 1, \"coordinates\": \"data\", \"facecolor\": \"#008000\", \"pathcodes\": [\"M\", \"L\", \"L\", \"L\", \"Z\"], \"dasharray\": \"none\", \"edgecolor\": \"#EEEEEE\", \"edgewidth\": 0.5, \"id\": \"el15821139794223821320\", \"data\": \"data04\", \"yindex\": 1, \"xindex\": 0, \"alpha\": 0.1}, {\"zorder\": 1, \"coordinates\": \"data\", \"facecolor\": \"#008000\", \"pathcodes\": [\"M\", \"L\", \"L\", \"L\", \"Z\"], \"dasharray\": \"none\", \"edgecolor\": \"#EEEEEE\", \"edgewidth\": 0.5, \"id\": \"el15821139794223960696\", \"data\": \"data03\", \"yindex\": 1, \"xindex\": 2, \"alpha\": 0.1}, {\"zorder\": 1, \"coordinates\": \"data\", \"facecolor\": \"#008000\", \"pathcodes\": [\"M\", \"L\", \"L\", \"L\", \"Z\"], \"dasharray\": \"none\", \"edgecolor\": \"#EEEEEE\", \"edgewidth\": 0.5, \"id\": \"el15821139794225864544\", \"data\": \"data05\", \"yindex\": 1, \"xindex\": 0, \"alpha\": 0.1}], \"texts\": [{\"fontsize\": 12.0, \"position\": [0.5, -0.09408602150537636], \"coordinates\": \"axes\", \"h_anchor\": \"middle\", \"rotation\": -0.0, \"zorder\": 3, \"id\": \"el15821139794213935088\", \"v_baseline\": \"hanging\", \"color\": \"#555555\", \"text\": \"Number\", \"alpha\": 1}, {\"fontsize\": 12.0, \"position\": [-0.07414874551971326, 0.5], \"coordinates\": \"axes\", \"h_anchor\": \"middle\", \"rotation\": -90.0, \"zorder\": 3, \"id\": \"el15821139794223997840\", \"v_baseline\": \"auto\", \"color\": \"#555555\", \"text\": \"range\", \"alpha\": 1}, {\"fontsize\": 14.399999999999999, \"position\": [0.5, 1.0224014336917562], \"coordinates\": \"axes\", \"h_anchor\": \"middle\", \"rotation\": -0.0, \"zorder\": 3, \"id\": \"el15821139794213935928\", \"v_baseline\": \"auto\", \"color\": \"#262626\", \"text\": \"TAP FILE ANALYSIS REPORT\", \"alpha\": 1}], \"zoomable\": true, \"xdomain\": [0.0, 6.0], \"xlim\": [0.0, 6.0], \"xscale\": \"linear\", \"images\": [], \"collections\": [], \"sharex\": [], \"ylim\": [0.0, 20.0], \"axesbgalpha\": null, \"id\": \"el15821139794224878648\", \"markers\": [], \"sharey\": [], \"bbox\": [0.125, 0.125, 0.775, 0.775]}], \"height\": 320.0, \"plugins\": [{\"type\": \"reset\"}, {\"button\": true, \"type\": \"zoom\", \"enabled\": false}, {\"button\": true, \"type\": \"boxzoom\", \"enabled\": false}], \"width\": 480.0});\n",
       "   }(mpld3);\n",
       "}else if(typeof define === \"function\" && define.amd){\n",
       "   // require.js is available: use it to load d3/mpld3\n",
       "   require.config({paths: {d3: \"https://mpld3.github.io/js/d3.v3.min\"}});\n",
       "   require([\"d3\"], function(d3){\n",
       "      window.d3 = d3;\n",
       "      mpld3_load_lib(\"https://mpld3.github.io/js/mpld3.v0.3.js\", function(){\n",
       "         \n",
       "         mpld3.draw_figure(\"fig_el158211397942136371447957541326\", {\"id\": \"el15821139794213637144\", \"data\": {\"data02\": [[1.0, 0.0], [1.2, 0.0], [1.2, 9.0], [1.0, 9.0]], \"data05\": [[5.0, 0.0], [5.2, 0.0], [5.2, 20.0], [5.0, 20.0]], \"data03\": [[2.0, 0.0, 4.0], [2.2, 0.0, 4.2], [2.2, 4.0, 4.2], [2.0, 4.0, 4.0]], \"data04\": [[3.0, 0.0], [3.2, 0.0], [3.2, 5.0], [3.0, 5.0]], \"data01\": [[0.0, 0.0], [0.2, 0.0], [0.2, 8.0], [0.0, 8.0]]}, \"axes\": [{\"lines\": [], \"axes\": [{\"nticks\": 6, \"fontsize\": 10.0, \"tickformat\": [\"SVKGT\", \"SWEIQ\", \"GUYUM\", \"ITAWI\", \"YUGMT\", \"DDDDD\"], \"tickvalues\": [0.1, 1.1, 2.1, 3.1, 4.1, 5.1], \"position\": \"bottom\", \"visible\": true, \"scale\": \"linear\", \"grid\": {\"color\": \"#FFFFFF\", \"alpha\": 1.0, \"gridOn\": true, \"dasharray\": \"none\"}}, {\"nticks\": 5, \"fontsize\": 10.0, \"tickformat\": null, \"tickvalues\": null, \"position\": \"left\", \"visible\": true, \"scale\": \"linear\", \"grid\": {\"color\": \"#FFFFFF\", \"alpha\": 1.0, \"gridOn\": true, \"dasharray\": \"none\"}}], \"yscale\": \"linear\", \"ydomain\": [0.0, 20.0], \"axesbg\": \"#E5E5E5\", \"paths\": [{\"zorder\": 1, \"coordinates\": \"data\", \"facecolor\": \"#008000\", \"pathcodes\": [\"M\", \"L\", \"L\", \"L\", \"Z\"], \"dasharray\": \"none\", \"edgecolor\": \"#EEEEEE\", \"edgewidth\": 0.5, \"id\": \"el15821139794215400896\", \"data\": \"data01\", \"yindex\": 1, \"xindex\": 0, \"alpha\": 0.1}, {\"zorder\": 1, \"coordinates\": \"data\", \"facecolor\": \"#008000\", \"pathcodes\": [\"M\", \"L\", \"L\", \"L\", \"Z\"], \"dasharray\": \"none\", \"edgecolor\": \"#EEEEEE\", \"edgewidth\": 0.5, \"id\": \"el15821139794224715424\", \"data\": \"data02\", \"yindex\": 1, \"xindex\": 0, \"alpha\": 0.1}, {\"zorder\": 1, \"coordinates\": \"data\", \"facecolor\": \"#008000\", \"pathcodes\": [\"M\", \"L\", \"L\", \"L\", \"Z\"], \"dasharray\": \"none\", \"edgecolor\": \"#EEEEEE\", \"edgewidth\": 0.5, \"id\": \"el15821139794223911656\", \"data\": \"data03\", \"yindex\": 1, \"xindex\": 0, \"alpha\": 0.1}, {\"zorder\": 1, \"coordinates\": \"data\", \"facecolor\": \"#008000\", \"pathcodes\": [\"M\", \"L\", \"L\", \"L\", \"Z\"], \"dasharray\": \"none\", \"edgecolor\": \"#EEEEEE\", \"edgewidth\": 0.5, \"id\": \"el15821139794223821320\", \"data\": \"data04\", \"yindex\": 1, \"xindex\": 0, \"alpha\": 0.1}, {\"zorder\": 1, \"coordinates\": \"data\", \"facecolor\": \"#008000\", \"pathcodes\": [\"M\", \"L\", \"L\", \"L\", \"Z\"], \"dasharray\": \"none\", \"edgecolor\": \"#EEEEEE\", \"edgewidth\": 0.5, \"id\": \"el15821139794223960696\", \"data\": \"data03\", \"yindex\": 1, \"xindex\": 2, \"alpha\": 0.1}, {\"zorder\": 1, \"coordinates\": \"data\", \"facecolor\": \"#008000\", \"pathcodes\": [\"M\", \"L\", \"L\", \"L\", \"Z\"], \"dasharray\": \"none\", \"edgecolor\": \"#EEEEEE\", \"edgewidth\": 0.5, \"id\": \"el15821139794225864544\", \"data\": \"data05\", \"yindex\": 1, \"xindex\": 0, \"alpha\": 0.1}], \"texts\": [{\"fontsize\": 12.0, \"position\": [0.5, -0.09408602150537636], \"coordinates\": \"axes\", \"h_anchor\": \"middle\", \"rotation\": -0.0, \"zorder\": 3, \"id\": \"el15821139794213935088\", \"v_baseline\": \"hanging\", \"color\": \"#555555\", \"text\": \"Number\", \"alpha\": 1}, {\"fontsize\": 12.0, \"position\": [-0.07414874551971326, 0.5], \"coordinates\": \"axes\", \"h_anchor\": \"middle\", \"rotation\": -90.0, \"zorder\": 3, \"id\": \"el15821139794223997840\", \"v_baseline\": \"auto\", \"color\": \"#555555\", \"text\": \"range\", \"alpha\": 1}, {\"fontsize\": 14.399999999999999, \"position\": [0.5, 1.0224014336917562], \"coordinates\": \"axes\", \"h_anchor\": \"middle\", \"rotation\": -0.0, \"zorder\": 3, \"id\": \"el15821139794213935928\", \"v_baseline\": \"auto\", \"color\": \"#262626\", \"text\": \"TAP FILE ANALYSIS REPORT\", \"alpha\": 1}], \"zoomable\": true, \"xdomain\": [0.0, 6.0], \"xlim\": [0.0, 6.0], \"xscale\": \"linear\", \"images\": [], \"collections\": [], \"sharex\": [], \"ylim\": [0.0, 20.0], \"axesbgalpha\": null, \"id\": \"el15821139794224878648\", \"markers\": [], \"sharey\": [], \"bbox\": [0.125, 0.125, 0.775, 0.775]}], \"height\": 320.0, \"plugins\": [{\"type\": \"reset\"}, {\"button\": true, \"type\": \"zoom\", \"enabled\": false}, {\"button\": true, \"type\": \"boxzoom\", \"enabled\": false}], \"width\": 480.0});\n",
       "      });\n",
       "    });\n",
       "}else{\n",
       "    // require.js not available: dynamically load d3 & mpld3\n",
       "    mpld3_load_lib(\"https://mpld3.github.io/js/d3.v3.min.js\", function(){\n",
       "         mpld3_load_lib(\"https://mpld3.github.io/js/mpld3.v0.3.js\", function(){\n",
       "                 \n",
       "                 mpld3.draw_figure(\"fig_el158211397942136371447957541326\", {\"id\": \"el15821139794213637144\", \"data\": {\"data02\": [[1.0, 0.0], [1.2, 0.0], [1.2, 9.0], [1.0, 9.0]], \"data05\": [[5.0, 0.0], [5.2, 0.0], [5.2, 20.0], [5.0, 20.0]], \"data03\": [[2.0, 0.0, 4.0], [2.2, 0.0, 4.2], [2.2, 4.0, 4.2], [2.0, 4.0, 4.0]], \"data04\": [[3.0, 0.0], [3.2, 0.0], [3.2, 5.0], [3.0, 5.0]], \"data01\": [[0.0, 0.0], [0.2, 0.0], [0.2, 8.0], [0.0, 8.0]]}, \"axes\": [{\"lines\": [], \"axes\": [{\"nticks\": 6, \"fontsize\": 10.0, \"tickformat\": [\"SVKGT\", \"SWEIQ\", \"GUYUM\", \"ITAWI\", \"YUGMT\", \"DDDDD\"], \"tickvalues\": [0.1, 1.1, 2.1, 3.1, 4.1, 5.1], \"position\": \"bottom\", \"visible\": true, \"scale\": \"linear\", \"grid\": {\"color\": \"#FFFFFF\", \"alpha\": 1.0, \"gridOn\": true, \"dasharray\": \"none\"}}, {\"nticks\": 5, \"fontsize\": 10.0, \"tickformat\": null, \"tickvalues\": null, \"position\": \"left\", \"visible\": true, \"scale\": \"linear\", \"grid\": {\"color\": \"#FFFFFF\", \"alpha\": 1.0, \"gridOn\": true, \"dasharray\": \"none\"}}], \"yscale\": \"linear\", \"ydomain\": [0.0, 20.0], \"axesbg\": \"#E5E5E5\", \"paths\": [{\"zorder\": 1, \"coordinates\": \"data\", \"facecolor\": \"#008000\", \"pathcodes\": [\"M\", \"L\", \"L\", \"L\", \"Z\"], \"dasharray\": \"none\", \"edgecolor\": \"#EEEEEE\", \"edgewidth\": 0.5, \"id\": \"el15821139794215400896\", \"data\": \"data01\", \"yindex\": 1, \"xindex\": 0, \"alpha\": 0.1}, {\"zorder\": 1, \"coordinates\": \"data\", \"facecolor\": \"#008000\", \"pathcodes\": [\"M\", \"L\", \"L\", \"L\", \"Z\"], \"dasharray\": \"none\", \"edgecolor\": \"#EEEEEE\", \"edgewidth\": 0.5, \"id\": \"el15821139794224715424\", \"data\": \"data02\", \"yindex\": 1, \"xindex\": 0, \"alpha\": 0.1}, {\"zorder\": 1, \"coordinates\": \"data\", \"facecolor\": \"#008000\", \"pathcodes\": [\"M\", \"L\", \"L\", \"L\", \"Z\"], \"dasharray\": \"none\", \"edgecolor\": \"#EEEEEE\", \"edgewidth\": 0.5, \"id\": \"el15821139794223911656\", \"data\": \"data03\", \"yindex\": 1, \"xindex\": 0, \"alpha\": 0.1}, {\"zorder\": 1, \"coordinates\": \"data\", \"facecolor\": \"#008000\", \"pathcodes\": [\"M\", \"L\", \"L\", \"L\", \"Z\"], \"dasharray\": \"none\", \"edgecolor\": \"#EEEEEE\", \"edgewidth\": 0.5, \"id\": \"el15821139794223821320\", \"data\": \"data04\", \"yindex\": 1, \"xindex\": 0, \"alpha\": 0.1}, {\"zorder\": 1, \"coordinates\": \"data\", \"facecolor\": \"#008000\", \"pathcodes\": [\"M\", \"L\", \"L\", \"L\", \"Z\"], \"dasharray\": \"none\", \"edgecolor\": \"#EEEEEE\", \"edgewidth\": 0.5, \"id\": \"el15821139794223960696\", \"data\": \"data03\", \"yindex\": 1, \"xindex\": 2, \"alpha\": 0.1}, {\"zorder\": 1, \"coordinates\": \"data\", \"facecolor\": \"#008000\", \"pathcodes\": [\"M\", \"L\", \"L\", \"L\", \"Z\"], \"dasharray\": \"none\", \"edgecolor\": \"#EEEEEE\", \"edgewidth\": 0.5, \"id\": \"el15821139794225864544\", \"data\": \"data05\", \"yindex\": 1, \"xindex\": 0, \"alpha\": 0.1}], \"texts\": [{\"fontsize\": 12.0, \"position\": [0.5, -0.09408602150537636], \"coordinates\": \"axes\", \"h_anchor\": \"middle\", \"rotation\": -0.0, \"zorder\": 3, \"id\": \"el15821139794213935088\", \"v_baseline\": \"hanging\", \"color\": \"#555555\", \"text\": \"Number\", \"alpha\": 1}, {\"fontsize\": 12.0, \"position\": [-0.07414874551971326, 0.5], \"coordinates\": \"axes\", \"h_anchor\": \"middle\", \"rotation\": -90.0, \"zorder\": 3, \"id\": \"el15821139794223997840\", \"v_baseline\": \"auto\", \"color\": \"#555555\", \"text\": \"range\", \"alpha\": 1}, {\"fontsize\": 14.399999999999999, \"position\": [0.5, 1.0224014336917562], \"coordinates\": \"axes\", \"h_anchor\": \"middle\", \"rotation\": -0.0, \"zorder\": 3, \"id\": \"el15821139794213935928\", \"v_baseline\": \"auto\", \"color\": \"#262626\", \"text\": \"TAP FILE ANALYSIS REPORT\", \"alpha\": 1}], \"zoomable\": true, \"xdomain\": [0.0, 6.0], \"xlim\": [0.0, 6.0], \"xscale\": \"linear\", \"images\": [], \"collections\": [], \"sharex\": [], \"ylim\": [0.0, 20.0], \"axesbgalpha\": null, \"id\": \"el15821139794224878648\", \"markers\": [], \"sharey\": [], \"bbox\": [0.125, 0.125, 0.775, 0.775]}], \"height\": 320.0, \"plugins\": [{\"type\": \"reset\"}, {\"button\": true, \"type\": \"zoom\", \"enabled\": false}, {\"button\": true, \"type\": \"boxzoom\", \"enabled\": false}], \"width\": 480.0});\n",
       "            })\n",
       "         });\n",
       "}\n",
       "</script>"
      ],
      "text/plain": [
       "<IPython.core.display.HTML object>"
      ]
     },
     "execution_count": 79,
     "metadata": {},
     "output_type": "execute_result"
    }
   ],
   "source": [
    "import pandas as pd\n",
    "import matplotlib.pyplot as plt\n",
    "import pyspark.sql as sparksql\n",
    "import numpy as np\n",
    "%matplotlib inline\n",
    "import matplotlib.pyplot as plt \n",
    "import mpld3\n",
    "import seaborn as sns\n",
    "from matplotlib import style\n",
    "sc.stop()\n",
    "sc = pyspark.SparkContext()\n",
    "sqlContext = SQLContext(sc)\n",
    "df = pd.read_csv(\"/home/ganesh/test_data.csv\")\n",
    "spark_df = sqlContext.createDataFrame(df)\n",
    "del(list_data)\n",
    "list_data = [list(row) for row in spark_df.collect()]\n",
    "#list = [['0-50',4],['50-100',11],['100-150',73],['150-200',46]]\n",
    "n_groups = len(list_data)\n",
    "index = np.arange(n_groups)\n",
    "\n",
    "\n",
    "bar_width = 0.2\n",
    "opacity = 0.1\n",
    "\n",
    "number = []\n",
    "ranges = []\n",
    "for item in list_data:\n",
    "    number.append(item[1])\n",
    "    ranges.append(item[0])\n",
    "\n",
    "plt.bar(index, number, bar_width,\n",
    "                 alpha=opacity,\n",
    "                 color='green')\n",
    "\n",
    "plt.title('TAP FILE ANALYSIS REPORT')\n",
    "plt.xlabel('Number')\n",
    "plt.ylabel('range')\n",
    "plt.xticks(index + bar_width/2, (ranges))\n",
    "\n",
    "mpld3.display()\n",
    "#plt.savefig(\"/home/ganesh/ggg.png\")\n",
    "#print (list_data)\n",
    "#sc.stop()"
   ]
  }
 ],
 "metadata": {
  "extensions": {
   "jupyter_dashboards": {
    "activeView": "grid_default",
    "version": 1,
    "views": {
     "grid_default": {
      "cellMargin": 10,
      "defaultCellHeight": 20,
      "maxColumns": 12,
      "name": "grid",
      "type": "grid"
     },
     "report_default": {
      "name": "report",
      "type": "report"
     }
    }
   }
  },
  "kernelspec": {
   "display_name": "Python 3",
   "language": "python",
   "name": "python3"
  },
  "language_info": {
   "codemirror_mode": {
    "name": "ipython",
    "version": 3
   },
   "file_extension": ".py",
   "mimetype": "text/x-python",
   "name": "python",
   "nbconvert_exporter": "python",
   "pygments_lexer": "ipython3",
   "version": "3.5.3"
  }
 },
 "nbformat": 4,
 "nbformat_minor": 2
}
